{
 "cells": [
  {
   "cell_type": "code",
   "execution_count": 25,
   "metadata": {},
   "outputs": [
    {
     "data": {
      "text/plain": [
       "'richfield'"
      ]
     },
     "execution_count": 25,
     "metadata": {},
     "output_type": "execute_result"
    }
   ],
   "source": [
    "from citipy import citipy\n",
    "\n",
    "city = citipy.nearest_city(44.9, -93.25)\n",
    "\n",
    "city.city_name\n",
    "\n",
    "# citipy.City instance at 0x1069b6518\n",
    "\n",
    "# city.city_name     # Tainan, my home town\n",
    "\n",
    "# city.country_code\n",
    "\n",
    "# print(city)"
   ]
  },
  {
   "cell_type": "code",
   "execution_count": 5,
   "metadata": {},
   "outputs": [
    {
     "name": "stdout",
     "output_type": "stream",
     "text": [
      "<module 'citipy.citipy' from 'C:\\\\Users\\\\Tom\\\\Anaconda3\\\\lib\\\\site-packages\\\\citipy\\\\citipy.py'>\n"
     ]
    }
   ],
   "source": [
    "print(citipy)\n"
   ]
  },
  {
   "cell_type": "code",
   "execution_count": null,
   "metadata": {},
   "outputs": [],
   "source": []
  }
 ],
 "metadata": {
  "kernelspec": {
   "display_name": "Python [conda env:Anaconda3]",
   "language": "python",
   "name": "conda-env-Anaconda3-py"
  },
  "language_info": {
   "codemirror_mode": {
    "name": "ipython",
    "version": 3
   },
   "file_extension": ".py",
   "mimetype": "text/x-python",
   "name": "python",
   "nbconvert_exporter": "python",
   "pygments_lexer": "ipython3",
   "version": "3.6.5"
  }
 },
 "nbformat": 4,
 "nbformat_minor": 2
}
