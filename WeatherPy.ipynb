{
 "cells": [
  {
   "cell_type": "code",
   "execution_count": 1,
   "metadata": {
    "scrolled": true
   },
   "outputs": [
    {
     "data": {
      "text/plain": [
       "'9e2d0f87701ed006ca983ddc0ab37e74'"
      ]
     },
     "execution_count": 1,
     "metadata": {},
     "output_type": "execute_result"
    }
   ],
   "source": [
    "# Dependencies and Setup\n",
    "import matplotlib.pyplot as plt\n",
    "import pandas as pd\n",
    "import numpy as np\n",
    "import requests\n",
    "import time\n",
    "\n",
    "# Import API key\n",
    "from api_keys import api_key\n",
    "\n",
    "# # Incorporated citipy to determine city based on latitude and longitude\n",
    "from citipy import citipy\n",
    "\n",
    "# # # # Output File (CSV)\n",
    "output_data_file = \"output_data/cities.csv\"\n",
    "\n",
    "\n",
    "# # # # Range of latitudes and longitudes\n",
    "lat_range = (-90, 90)\n",
    "lng_range = (-180, 180)\n",
    "\n"
   ]
  },
  {
   "cell_type": "markdown",
   "metadata": {},
   "source": [
    "## Generate Cities List"
   ]
  },
  {
   "cell_type": "code",
   "execution_count": 7,
   "metadata": {},
   "outputs": [
    {
     "name": "stdout",
     "output_type": "stream",
     "text": [
      "['bengkulu', 'hobart', 'iguape', 'palabuhanratu', 'thompson', 'vung tau', 'noumea', 'georgetown', 'alofi', 'gurupa', 'new norfolk', 'arraial do cabo', 'airai', 'lubango', 'amderma', 'puerto ayora', 'tautira', 'kefamenanu', 'rikitea', 'atuona', 'flinders', 'ostrovnoy', 'busselton', 'axim', 'bilibino', 'guerrero negro', 'baykit', 'waipawa', 'barentsburg', 'lebu', 'qaanaaq', 'punta arenas', 'cape town', 'castro', 'kruisfontein', 'viligili', 'kapaa', 'belushya guba', 'ribeira grande', 'port elizabeth', 'jamestown', 'vaitupu', 'xining', 'albany', 'chase', 'sentyabrskiy', 'caravelas', 'leh', 'hermanus', 'filingue', 'ugoofaaru', 'mataura', 'ushuaia', 'vaini', 'marzuq', 'touros', 'zaysan', 'luderitz', 'praia da vitoria', 'los llanos de aridane', 'harper', 'khatanga', 'iqaluit', 'kavaratti', 'kaitangata', 'yangambi', 'barstow', 'chor', 'luanda', 'illoqqortoormiut', 'avarua', 'huilong', 'cockburn town', 'gambo', 'barrow', 'chuy', 'whyalla', 'bluff', 'shepsi', 'tessalit', 'lavrentiya', 'high level', 'cherskiy', 'avera', 'mount darwin', 'shingu', 'montes altos', 'sibu', 'zhezkazgan', 'souillac', 'itarema', 'grand river south east', 'areka', 'mogadishu', 'talnakh', 'turbat', 'karamken', 'cesky brod', 'san jose de rio tinto', 'zhigansk', 'soe', 'attawapiskat', 'upernavik', 'saskylakh', 'moju', 'tacuarembo', 'camacha', 'nampula', 'hailun', 'ullapool', 'victoria', 'severo-kurilsk', 'solnechnyy', 'aksu', 'port alfred', 'leningradskiy', 'tuktoyaktuk', 'saint george', 'clyde river', 'samarai', 'hervey bay', 'makinsk', 'san cristobal', 'bambous virieux', 'hilo', 'hamilton', 'kamenskoye', 'beawar', 'fortuna', 'mar del plata', 'yumen', 'bababe', 'northam', 'kutum', 'mwinilunga', 'amurrio', 'seoul', 'atasu', 'sitka', 'nanortalik', 'port lincoln', 'namibe', 'port blair', 'carnarvon', 'manhattan', 'chokurdakh', 'tiksi', 'araouane', 'bur gabo', 'matara', 'le port', 'ola', 'aswan', 'ucluelet', 'udachnyy', 'hithadhoo', 'port hardy', 'tumannyy', 'puerto escondido', 'olga', 'klaksvik', 'east london', 'bethel', 'shalinskoye', 'saint-philippe', 'taolanaro', 'boyuibe', 'san patricio', 'sri aman', 'concarneau', 'misratah', 'leshukonskoye', 'dobromir', 'kodiak', 'tasiilaq', 'guymon', 'at-bashi', 'nhulunbuy', 'nome', 'querendaro', 'grindavik', 'tidore', 'goderich', 'looc', 'asau', 'santiago', 'madimba', 'machachi', 'provideniya', 'pierre', 'bam', 'mahebourg', 'lens', 'makakilo city', 'tekirdag', 'coshocton', 'dikson', 'ipswich', 'matay', 'sao filipe', 'wanlaweyn', 'vardo', 'codrington', 'lolua', 'qaqortoq', 'cap malheureux', 'kandrian', 'bredasdorp', 'mto wa mbu', 'puri', 'lagoa', 'butaritari', 'yellowknife', 'fairbanks', 'husavik', 'ko samui', 'nizhneyansk', 'marquette', 'te anau', 'sochaczew', 'puerto narino', 'lindsay', 'mount vernon', 'guadalupe y calvo', 'ilulissat', 'adrar', 'raisinghnagar', 'vao', 'mount isa', 'deogarh', 'faanui', 'narsaq', 'stekolnyy', 'labutta', 'dingle', 'lasa', 'asyut', 'constitucion', 'derzhavinsk', 'nikolskoye', 'lorengau', 'gazojak', 'korla', 'vila franca do campo', 'bhadrachalam', 'bolungarvik', 'shirokiy', 'longyearbyen', 'menongue', 'tsihombe', 'paamiut', 'isangel', 'alice springs', 'semey', 'kota belud', 'port hawkesbury', 'rawson', 'baghdad', 'bathsheba', 'saquarema', 'nortelandia', 'belmonte', 'neiafu', 'komyshnya', 'coquimbo', 'sakakah', 'mackay', 'vaitape', 'totness', 'rio gallegos', 'vestmanna', 'hailar', 'nova serrana', 'esperance', 'coahuayana', 'okhotsk', 'whitewater', 'sehithwa', 'kloulklubed', 'sangar', 'bargal', 'marigot', 'vila velha', 'halifax', 'catamarca', 'sao jose da coroa grande', 'houffalize', 'meshchovsk', 'bull savanna', 'vysokopillya', 'ostersund', 'tuggurt', 'vostok', 'deputatskiy', 'comodoro rivadavia', 'aras', 'guiyang', 'yulara', 'rojhan', 'pangnirtung', 'praya', 'buraydah', 'aklavik', 'scottsburgh', 'ust-nera', 'beloha', 'butembo', 'ginda', 'ijaki', 'dinguiraye', 'kalmunai', 'jizan', 'berlevag', 'teya', 'omboue', 'nantucket', 'karasjok', 'kaffrine', 'payson', 'hongjiang', 'yaan', 'dawei', 'progreso', 'portland', 'jujuy', 'kot addu', 'belyy yar', 'senneterre', 'itupiranga', 'pevek', 'veraval', 'katherine', 'leeton', 'kamenka', 'churapcha', 'bairiki', 'mangrol', 'cabo san lucas', 'puro', 'medicine hat', 'cagayan de tawi-tawi', 'terralba', 'pemangkat', 'kemijarvi', 'taoudenni', 'tucurui', 'ponta do sol', 'torbay', 'kahului', 'atbasar', 'giresun', 'ouango', 'mumias', 'mattru', 'fort nelson', 'tuatapere', 'varva', 'urumqi', 'victor harbor', 'sapu', 'gilbues', 'sabla', 'burkhala', 'mount gambier', 'saint anthony', 'naftalan', 'namatanai', 'bay roberts', 'along', 'aasiaat', 'provost', 'morondava', 'laguna', 'kerouane', 'vestmannaeyjar', 'duncan', 'cidreira', 'half moon bay', 'sao miguel do araguaia', 'gorontalo', 'shache', 'harnosand', 'gboko', 'hasaki', 'mehamn', 'hachinohe', 'saleaula', 'sao luis de montes belos', 'sibolga', 'kavieng', 'saldanha', 'manzanillo', 'cayenne', 'linxia', 'minot', 'meitingen', 'ambilobe', 'lompoc', 'yomitan', 'ulaangom', 'veletma', 'bacolod', 'santiago del estero', 'a', 'ballitoville', 'odessa', 'brae', 'malwan', 'westport', 'hakvik', 'quatre cocos', 'mitu', 'port hedland', 'tawkar', 'saint-pierre', 'praia', 'west bay', 'ust-kamchatsk', 'santa rosa', 'jibuti', 'jasper', 'sabang', 'santo antonio do ica', 'vaiusu', 'awjilah', 'weinan', 'crib point', 'norman wells', 'jiuquan', 'tiptur', 'marsa matruh', 'lata', 'geresk', 'grand gaube', 'ahipara', 'kasongo-lunda', 'sooke', 'domna', 'arlit', 'candelaria', 'mys shmidta', 'antalaha', 'atherton', 'muros', 'shimoda', 'yantzaza', 'porto novo', 'qingan', 'beberibe', 'coari', 'aloleng', 'kazalinsk', 'mandan', 'dingzhou', 'ayagoz', 'banmo', 'kununurra', 'nicoya', 'carolina', 'west helena', 'ancud', 'haibowan', 'shenjiamen', 'vikhorevka', 'mococa', 'tura', 'puerto cabezas', 'manica', 'hirara', 'springville', 'dezhou', 'ikovka', 'dwarka', 'petropavlovsk-kamchatskiy', 'santa marta', 'salinopolis', 'gannan', 'inhambane', 'jieshi', 'san quintin', 'prokudskoye', 'saint-augustin', 'narva-joesuu', 'margate', 'saint-paul', 'yeppoon', 'channel-port aux basques', 'rybachiy', 'dejen', 'ulefoss', 'bilma', 'nemuro', 'kaeo', 'oussouye', 'knysna', 'muli', 'magdug', 'vanavara', 'manono', 'santa rosalia', 'guarapari', 'iquitos', 'timberlake', 'grootfontein', 'gwanda', 'colac', 'nishihara', 'acapulco', 'acton vale', 'faridan', 'coihueco', 'florianopolis', 'manokwari', 'uwayl', 'bosaso', 'jacksonville', 'cloquet', 'raudeberg', 'haapu', 'harindanga', 'mindelo', 'santa cruz', 'mahajanga', 'jawhar', 'zhanakorgan', 'moose factory', 'jiddah', 'zatoka', 'suntar', 'khormuj', 'iralaya', 'tabory', 'mountain home', 'sola', 'jumla', 'keflavik', 'muncar', 'tazmalt', 'olinda', 'urdoma', 'zaraza', 'mandera', 'maricka', 'muzhi', 'nyurba', 'sumkino', 'borinskoye', 'metro', 'salalah', 'riyadh', 'gaoual', 'valera', 'dunedin', 'port augusta', 'salzwedel', 'khonuu', 'imbituba', 'samusu', 'havre-saint-pierre', 'hokitika', 'quarai', 'rio grande', 'ocho rios', 'rafaela', 'tuy hoa', 'kenai', 'jalu', 'pasir gudang', 'dakar', 'poum', 'ati', 'hurghada', 'svetlogorsk', 'road town', 'nanning']\n"
     ]
    }
   ],
   "source": [
    "# List for holding lat_lngs and cities\n",
    "lat_lngs = []\n",
    "cities = []\n",
    "\n",
    "# Create a set of random lat and lng combinations\n",
    "lats = np.random.uniform(low=-90.000, high=90.000, size=1500)\n",
    "lngs = np.random.uniform(low=-180.000, high=180.000, size=1500)\n",
    "lat_lngs = zip(lats, lngs)\n",
    "\n",
    "# Identify nearest city for each lat, lng combination\n",
    "for lat_lng in lat_lngs:\n",
    "    city = citipy.nearest_city(lat_lng[0], lat_lng[1]).city_name\n",
    "    \n",
    "    # If the city is unique, then add it to a our cities list\n",
    "    if city not in cities:\n",
    "        cities.append(city)\n",
    "\n",
    "# Print the city count to confirm sufficient count\n",
    "# len(cities)\n",
    "print(cities)"
   ]
  },
  {
   "cell_type": "markdown",
   "metadata": {},
   "source": [
    "## Perform API Calls"
   ]
  },
  {
   "cell_type": "code",
   "execution_count": 5,
   "metadata": {},
   "outputs": [
    {
     "name": "stdout",
     "output_type": "stream",
     "text": [
      "http://api.openweathermap.org/data/2.5/weather?appid=9e2d0f87701ed006ca983ddc0ab37e74&q=chicago&units=Imperial\n"
     ]
    }
   ],
   "source": [
    "# OpenWeatherMap API Key\n",
    "\n",
    "url = \"http://api.openweathermap.org/data/2.5/weather?\"\n",
    "units = \"Imperial\"\n",
    "\n",
    "# Starting URL for Weather Map API Call\n",
    "\n",
    "query_url = f\"{url}appid={api_key}&q={city}&units={units}\"\n",
    "print(query_url)\n"
   ]
  },
  {
   "cell_type": "code",
   "execution_count": null,
   "metadata": {},
   "outputs": [],
   "source": [
    "#jsonify \n",
    "\n",
    "plot_data = []\n",
    "\n",
    "for city in cities:\n",
    "    weather_response = requests.get(query_url)\n",
    "    weather_json = weather_response.json()\n",
    "    city_lat = weather_json[\"coord\"][\"lat\"]\n",
    "    city_temp = weather_json[\"main\"][\"temp\"]\n",
    "    city_cloud = weather_json[\"clouds\"][\"all\"]\n",
    "    city_wind = weather_json[\"wind\"][\"speed\"]\n",
    "    \n",
    "    \n",
    "\n",
    "\n",
    "# Temperature (F) vs. Latitude\n",
    "# Humidity (%) vs. Latitude\n",
    "# Cloudiness (%) vs. Latitude\n",
    "# Wind Speed (mph) vs. Latitude"
   ]
  }
 ],
 "metadata": {
  "anaconda-cloud": {},
  "kernelspec": {
   "display_name": "Python [conda env:PythonData]",
   "language": "python",
   "name": "conda-env-PythonData-py"
  },
  "language_info": {
   "codemirror_mode": {
    "name": "ipython",
    "version": 3
   },
   "file_extension": ".py",
   "mimetype": "text/x-python",
   "name": "python",
   "nbconvert_exporter": "python",
   "pygments_lexer": "ipython3",
   "version": "3.6.5"
  }
 },
 "nbformat": 4,
 "nbformat_minor": 1
}
